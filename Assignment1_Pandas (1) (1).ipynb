{
 "cells": [
  {
   "cell_type": "markdown",
   "id": "f7e1439c-3dc2-46cf-aef2-596dcc73396e",
   "metadata": {},
   "source": [
    "## Assignment 1: Data Exploration\n",
    "\n",
    "- Load Uber.csv dataset.\n",
    "\n",
    "- Display the number of rows and columns.\n",
    "\n",
    "- Show unique categories in the CATEGORY column.\n",
    "\n",
    "- Find how many null values are there in PURPOSE.\n",
    "\n",
    "- Rename all columns in uppercase."
   ]
  },
  {
   "cell_type": "markdown",
   "id": "32b7d1d5-9972-4890-9752-96ef8d9a6d32",
   "metadata": {},
   "source": [
    "## Assignment 2: Data Filtering & Transformation\n",
    "\n",
    "- Display rides where CATEGORY == 'Business'.\n",
    "\n",
    "- Show top 5 rides with the longest distance (MILES).\n",
    "\n",
    "- Replace all missing PURPOSE values with \"Not Specified\".\n",
    "\n",
    "- Create a new column TRIP_DURATION using END_DATE - START_DATE.\n",
    "\n",
    "- Sort trips by distance in descending order."
   ]
  },
  {
   "cell_type": "markdown",
   "id": "6ca2879e-e47f-4b62-ac56-978489199390",
   "metadata": {},
   "source": [
    "## Assignment 3: Grouping and Aggregation\n",
    "\n",
    "- Group by CATEGORY and find average miles per category.\n",
    "\n",
    "- Find total trips for each PURPOSE.\n",
    "\n",
    "- Identify top 3 start locations by number of rides.\n",
    "\n",
    "- Plot:\n",
    "\n",
    "- A bar chart of average miles by category.\n",
    "- A pie chart of trip purposes."
   ]
  },
  {
   "cell_type": "code",
   "execution_count": null,
   "id": "86c239db-030f-43b6-83f7-03d6e41e4022",
   "metadata": {},
   "outputs": [],
   "source": []
  }
 ],
 "metadata": {
  "kernelspec": {
   "display_name": "Python 3 (ipykernel)",
   "language": "python",
   "name": "python3"
  },
  "language_info": {
   "codemirror_mode": {
    "name": "ipython",
    "version": 3
   },
   "file_extension": ".py",
   "mimetype": "text/x-python",
   "name": "python",
   "nbconvert_exporter": "python",
   "pygments_lexer": "ipython3",
   "version": "3.12.4"
  }
 },
 "nbformat": 4,
 "nbformat_minor": 5
}
